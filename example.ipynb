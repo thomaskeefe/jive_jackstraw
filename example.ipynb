{
 "cells": [
  {
   "cell_type": "code",
   "execution_count": 1,
   "metadata": {},
   "outputs": [],
   "source": [
    "import numpy as np\n",
    "from jive_jackstraw import JIVEJackstraw\n",
    "\n",
    "datablock = np.loadtxt('tests/test_datablock.csv', delimiter=',')\n",
    "cns = np.loadtxt('tests/test_cns.csv', delimiter=',')"
   ]
  },
  {
   "cell_type": "markdown",
   "metadata": {},
   "source": [
    "There is a progress bar for each joint component that you're testing. This helps on really large AJIVE analyses."
   ]
  },
  {
   "cell_type": "code",
   "execution_count": 2,
   "metadata": {},
   "outputs": [
    {
     "name": "stderr",
     "output_type": "stream",
     "text": [
      "/Users/thomaskeefe/miniconda3/lib/python3.7/importlib/_bootstrap.py:219: RuntimeWarning: numpy.ufunc size changed, may indicate binary incompatibility. Expected 192 from C header, got 216 from PyObject\n",
      "  return f(*args, **kwds)\n",
      "100%|██████████| 100/100 [00:00<00:00, 113.66it/s]\n",
      "100%|██████████| 100/100 [00:00<00:00, 17627.57it/s]\n",
      "100%|██████████| 100/100 [00:00<00:00, 13324.13it/s]\n",
      "100%|██████████| 100/100 [00:00<00:00, 12196.64it/s]\n",
      "100%|██████████| 100/100 [00:00<00:00, 22385.14it/s]\n"
     ]
    }
   ],
   "source": [
    "js = JIVEJackstraw()\n",
    "js.fit(datablock, cns, alpha=.01, bonferroni=True)"
   ]
  },
  {
   "cell_type": "code",
   "execution_count": 3,
   "metadata": {},
   "outputs": [
    {
     "data": {
      "text/plain": [
       "array([26, 27, 42, 53, 61, 62, 68, 75, 77, 79, 92])"
      ]
     },
     "execution_count": 3,
     "metadata": {},
     "output_type": "execute_result"
    }
   ],
   "source": [
    "js.results[0]['significant']"
   ]
  },
  {
   "cell_type": "code",
   "execution_count": null,
   "metadata": {},
   "outputs": [],
   "source": []
  }
 ],
 "metadata": {
  "kernelspec": {
   "display_name": "Python 3",
   "language": "python",
   "name": "python3"
  },
  "language_info": {
   "codemirror_mode": {
    "name": "ipython",
    "version": 3
   },
   "file_extension": ".py",
   "mimetype": "text/x-python",
   "name": "python",
   "nbconvert_exporter": "python",
   "pygments_lexer": "ipython3",
   "version": "3.7.1"
  }
 },
 "nbformat": 4,
 "nbformat_minor": 4
}
